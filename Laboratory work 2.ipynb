{
 "cells": [
  {
   "cell_type": "markdown",
   "id": "7fbab4f0",
   "metadata": {},
   "source": [
    "# Лабораторная работа 2 Работа со строками в языке Python"
   ]
  },
  {
   "cell_type": "markdown",
   "id": "2d2403ff",
   "metadata": {},
   "source": [
    "### Цель:\n",
    "приобретение навыков по работе со строками при написании программ с\n",
    "помощью языка программирования Python версии 3.x"
   ]
  },
  {
   "cell_type": "markdown",
   "id": "42bef597",
   "metadata": {},
   "source": [
    "### Практическая часть:"
   ]
  },
  {
   "cell_type": "markdown",
   "id": "69978b15",
   "metadata": {},
   "source": [
    "### Индивидуальные задания:"
   ]
  },
  {
   "cell_type": "markdown",
   "id": "a27844ab",
   "metadata": {},
   "source": [
    "**Задание 1** Даны два слова (первое длиннее второго). Заменить в первом слове соответствующее\n",
    "количество символов на второе слово."
   ]
  },
  {
   "cell_type": "code",
   "execution_count": 20,
   "id": "da7091e4",
   "metadata": {},
   "outputs": [
    {
     "name": "stdout",
     "output_type": "stream",
     "text": [
      "введите первое слово: Барсук\n",
      "введите второе слово: Енот\n",
      "Енотук\n"
     ]
    }
   ],
   "source": [
    "str1= str(input(\"введите первое слово: \"))\n",
    "str2= str(input(\"введите второе слово: \"))\n",
    "lenStr1=len(str1)\n",
    "lenStr2=len(str2)\n",
    "i=0\n",
    "if lenStr1<lenStr2:\n",
    "    print(\"Ошибка. Первая строка должна быть длиннее второй\")\n",
    "else:\n",
    "    str1=str1[lenStr2:]\n",
    "    str1=str2+str1\n",
    "print(str1)"
   ]
  },
  {
   "cell_type": "markdown",
   "id": "7f016957",
   "metadata": {},
   "source": [
    "**Задание 2** Дано предложение, в котором нет символа «-». Определить количество букв о в первом\n",
    "слове. Учесть, что в начале предложения могут быть пробелы."
   ]
  },
  {
   "cell_type": "code",
   "execution_count": 70,
   "id": "fa271afd",
   "metadata": {},
   "outputs": [
    {
     "name": "stdout",
     "output_type": "stream",
     "text": [
      "Введите предложение (без символа '-'):   Достоевский Ф.М. Преступление и наказание. \n",
      "['', '', 'Достоевский', 'Ф.М.', 'Преступление', 'и', 'наказание.', '']\n",
      "Количество букв 'о' в слове 'Достоевский'= 2\n"
     ]
    }
   ],
   "source": [
    "str1= str(input(\"Введите предложение (без символа '-'): \"))\n",
    "if str1.find(\"-\")!=-1:\n",
    "    print(\"Ошибка. Вы ввели предложение с символом '-' \")\n",
    "else:\n",
    "    str1=str1.split(' ')\n",
    "    str1Len=len(str1)\n",
    "    print(str1)\n",
    "    i=0\n",
    "    while i<str1Len:\n",
    "        if str1[i]!='':\n",
    "            str2=str1[i]\n",
    "            numberOflettersО=str2.count('о')\n",
    "            print(\"Количество букв 'о' в слове '{0}'= {1}\".format(str2,numberOflettersО))\n",
    "            \n",
    "                \n",
    "            break\n",
    "        i+=1\n",
    "    \n",
    "    \n",
    "    "
   ]
  },
  {
   "cell_type": "markdown",
   "id": "d72bbe5a",
   "metadata": {},
   "source": [
    "**Задание 3** Дана строка. Удалить из нее все пробелы."
   ]
  },
  {
   "cell_type": "code",
   "execution_count": 9,
   "id": "ea42e4e2",
   "metadata": {},
   "outputs": [
    {
     "name": "stdout",
     "output_type": "stream",
     "text": [
      "Введите предложение: Dog and cat\n",
      "Dogandcat\n"
     ]
    }
   ],
   "source": [
    "str1= str(input(\"Введите предложение: \"))\n",
    "str1=str1.replace(' ', '')\n",
    "print(str1)"
   ]
  },
  {
   "cell_type": "markdown",
   "id": "dca4f729",
   "metadata": {},
   "source": [
    " **Задание повышенной сложности** \n",
    " Даны два слова. Для каждой буквы первого слова определить, входит ли она во второе\n",
    "слово. Повторяющиеся буквы первого слова не рассматривать. Например, если заданные\n",
    "слова процессор и информация, то для букв первого из них ответом должно быть: нет да да\n",
    "да нет нет.\n"
   ]
  },
  {
   "cell_type": "code",
   "execution_count": 41,
   "id": "342a52fe",
   "metadata": {},
   "outputs": [
    {
     "name": "stdout",
     "output_type": "stream",
     "text": [
      "Введите первое слово: процессор\n",
      "Введите второе слово: информация\n",
      "нет да да да нет нет "
     ]
    }
   ],
   "source": [
    "str1= str(input(\"Введите первое слово: \"))\n",
    "str2= str(input(\"Введите второе слово: \"))\n",
    "str1=str1.lower()\n",
    "str2=str2.lower()\n",
    "\n",
    "str3=\"\".join(list(dict.fromkeys(str1)))\n",
    "k=0\n",
    "for i in str3:\n",
    "    if str2.find(i,k)!=-1:\n",
    "        print(\"да \", end='')\n",
    "    else:\n",
    "        print(\"нет \", end='')\n",
    "    k+=1"
   ]
  },
  {
   "cell_type": "code",
   "execution_count": null,
   "id": "02ccecec",
   "metadata": {},
   "outputs": [],
   "source": []
  },
  {
   "cell_type": "code",
   "execution_count": null,
   "id": "4fff26ef",
   "metadata": {},
   "outputs": [],
   "source": []
  }
 ],
 "metadata": {
  "kernelspec": {
   "display_name": "Python 3 (ipykernel)",
   "language": "python",
   "name": "python3"
  },
  "language_info": {
   "codemirror_mode": {
    "name": "ipython",
    "version": 3
   },
   "file_extension": ".py",
   "mimetype": "text/x-python",
   "name": "python",
   "nbconvert_exporter": "python",
   "pygments_lexer": "ipython3",
   "version": "3.9.7"
  }
 },
 "nbformat": 4,
 "nbformat_minor": 5
}
