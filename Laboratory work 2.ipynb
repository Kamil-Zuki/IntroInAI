{
 "cells": [
  {
   "cell_type": "markdown",
   "id": "7fbab4f0",
   "metadata": {},
   "source": [
    "# Лабораторная работа 2 Работа со строками в языке Python"
   ]
  },
  {
   "cell_type": "markdown",
   "id": "2d2403ff",
   "metadata": {},
   "source": [
    "### Цель:\n",
    "приобретение навыков по работе со строками при написании программ с\n",
    "помощью языка программирования Python версии 3.x"
   ]
  },
  {
   "cell_type": "markdown",
   "id": "42bef597",
   "metadata": {},
   "source": [
    "### Практическая часть:"
   ]
  },
  {
   "cell_type": "markdown",
   "id": "69978b15",
   "metadata": {},
   "source": [
    "### Индивидуальные задания:"
   ]
  },
  {
   "cell_type": "markdown",
   "id": "a27844ab",
   "metadata": {},
   "source": [
    "**Задание 1** Даны два слова (первое длиннее второго). Заменить в первом слове соответствующее\n",
    "количество символов на второе слово."
   ]
  },
  {
   "cell_type": "code",
   "execution_count": 20,
   "id": "da7091e4",
   "metadata": {},
   "outputs": [
    {
     "name": "stdout",
     "output_type": "stream",
     "text": [
      "введите первое слово: Барсук\n",
      "введите второе слово: Енот\n",
      "Енотук\n"
     ]
    }
   ],
   "source": [
    "str1= str(input(\"введите первое слово: \"))\n",
    "str2= str(input(\"введите второе слово: \"))\n",
    "lenStr1=len(str1)\n",
    "lenStr2=len(str2)\n",
    "i=0\n",
    "if lenStr1<lenStr2:\n",
    "    print(\"Ошибка. Первая строка должна быть длиннее второй\")\n",
    "else:\n",
    "    str1=str1[lenStr2:]\n",
    "    str1=str2+str1\n",
    "print(str1)"
   ]
  },
  {
   "cell_type": "code",
   "execution_count": null,
   "id": "f2bc04c6",
   "metadata": {},
   "outputs": [],
   "source": []
  }
 ],
 "metadata": {
  "kernelspec": {
   "display_name": "Python 3 (ipykernel)",
   "language": "python",
   "name": "python3"
  },
  "language_info": {
   "codemirror_mode": {
    "name": "ipython",
    "version": 3
   },
   "file_extension": ".py",
   "mimetype": "text/x-python",
   "name": "python",
   "nbconvert_exporter": "python",
   "pygments_lexer": "ipython3",
   "version": "3.9.7"
  }
 },
 "nbformat": 4,
 "nbformat_minor": 5
}
