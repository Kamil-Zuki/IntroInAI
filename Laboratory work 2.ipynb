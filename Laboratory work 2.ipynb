{
 "cells": [
  {
   "cell_type": "markdown",
   "id": "f65a2139",
   "metadata": {},
   "source": [
    "# Лабораторная работа 2 Работа со строками в языке Python"
   ]
  },
  {
   "cell_type": "markdown",
   "id": "4e6c6717",
   "metadata": {},
   "source": [
    "### Цель:\n",
    "приобретение навыков по работе со строками при написании программ с\n",
    "помощью языка программирования Python версии 3.x"
   ]
  },
  {
   "cell_type": "markdown",
   "id": "f703ee1d",
   "metadata": {},
   "source": [
    "### Практическая часть:"
   ]
  },
  {
   "cell_type": "markdown",
   "id": "d97aad0a",
   "metadata": {},
   "source": [
    "### Индивидуальные задания:"
   ]
  },
  {
   "cell_type": "code",
   "execution_count": null,
   "id": "b5ec890c",
   "metadata": {},
   "outputs": [],
   "source": []
  }
 ],
 "metadata": {
  "kernelspec": {
   "display_name": "Python 3 (ipykernel)",
   "language": "python",
   "name": "python3"
  },
  "language_info": {
   "codemirror_mode": {
    "name": "ipython",
    "version": 3
   },
   "file_extension": ".py",
   "mimetype": "text/x-python",
   "name": "python",
   "nbconvert_exporter": "python",
   "pygments_lexer": "ipython3",
   "version": "3.9.7"
  }
 },
 "nbformat": 4,
 "nbformat_minor": 5
}
