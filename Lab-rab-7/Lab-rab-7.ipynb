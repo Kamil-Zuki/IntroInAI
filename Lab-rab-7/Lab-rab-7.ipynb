{
 "cells": [
  {
   "cell_type": "markdown",
   "id": "a60247e1",
   "metadata": {},
   "source": [
    "# Лабораторная работа 7 (2.13) Элементы объектно-ориентированного программирования в языке Python\n",
    "\n",
    "**Цель работы:**   приобретение навыков по работе с модулями и пакетами языка программирования Python версии 3.x.\n",
    "\n",
    "## 6 Вариант"
   ]
  },
  {
   "cell_type": "markdown",
   "id": "2d6487d9",
   "metadata": {},
   "source": [
    "### Индивидуальное задание:"
   ]
  },
  {
   "cell_type": "markdown",
   "id": "74881fbd",
   "metadata": {},
   "source": [
    "**Задание 2** Выполнить индивидуальное задание лабораторной работы 2.8, оформив все классы программы в виде отдельного пакета. Разработанный пакет должен быть подключен в основную программу с помощью одного из вариантов команды import . Настроить соответствующим образом переменную __all__ в файле __init__.py пакета. Номер варианта уточнить у преподавателя."
   ]
  },
  {
   "cell_type": "code",
   "execution_count": 14,
   "id": "88104cd9",
   "metadata": {},
   "outputs": [],
   "source": [
    "import sys\n",
    "from datetime import datetime\n",
    "from datetime import date\n"
   ]
  },
  {
   "cell_type": "code",
   "execution_count": null,
   "id": "a78eed6f",
   "metadata": {},
   "outputs": [
    {
     "name": "stdout",
     "output_type": "stream",
     "text": [
      ">>> add\n",
      "Название пункта назначения? Москва\n",
      "Номер поезда? 321\n"
     ]
    }
   ],
   "source": [
    "schedules = []\n",
    "while True:\n",
    "    command = input(\">>> \").lower()\n",
    "    if command == 'exit':\n",
    "        break\n",
    "    elif command == 'add':\n",
    "        dllRoutes.add_destination()\n",
    "    elif command == 'list':\n",
    "        dllRoutes.destination_list()       \n",
    "    else:\n",
    "        print(\"Неверная команда\")\n",
    "    if __name__ == '__main__':\n",
    "         dllRoutes.main()"
   ]
  },
  {
   "cell_type": "code",
   "execution_count": null,
   "id": "5d54d498",
   "metadata": {},
   "outputs": [],
   "source": []
  },
  {
   "cell_type": "code",
   "execution_count": null,
   "id": "c6704da5",
   "metadata": {},
   "outputs": [],
   "source": []
  }
 ],
 "metadata": {
  "kernelspec": {
   "display_name": "Python 3 (ipykernel)",
   "language": "python",
   "name": "python3"
  },
  "language_info": {
   "codemirror_mode": {
    "name": "ipython",
    "version": 3
   },
   "file_extension": ".py",
   "mimetype": "text/x-python",
   "name": "python",
   "nbconvert_exporter": "python",
   "pygments_lexer": "ipython3",
   "version": "3.9.7"
  }
 },
 "nbformat": 4,
 "nbformat_minor": 5
}
