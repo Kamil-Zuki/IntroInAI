{
 "cells": [
  {
   "cell_type": "markdown",
   "id": "a60247e1",
   "metadata": {},
   "source": [
    "# Лабораторная работа 7 (2.13) Элементы объектно-ориентированного программирования в языке Python\n",
    "\n",
    "**Цель работы:**   приобретение навыков по работе с модулями и пакетами языка программирования Python версии 3.x.\n",
    "\n",
    "## 6 Вариант"
   ]
  },
  {
   "cell_type": "markdown",
   "id": "2d6487d9",
   "metadata": {},
   "source": [
    "### Индивидуальное задание:"
   ]
  },
  {
   "cell_type": "markdown",
   "id": "74881fbd",
   "metadata": {},
   "source": [
    "**Задание 2** Выполнить индивидуальное задание лабораторной работы 2.8, оформив все классы программы в виде отдельного пакета. Разработанный пакет должен быть подключен в основную программу с помощью одного из вариантов команды import . Настроить соответствующим образом переменную __all__ в файле __init__.py пакета. Номер варианта уточнить у преподавателя."
   ]
  },
  {
   "cell_type": "raw",
   "id": "0568ad16",
   "metadata": {},
   "source": [
    "# Файл dllRoutes\n",
    "\n",
    "def add_destination():\n",
    "    distenationName = input(\"Название пункта назначения? \")\n",
    "    number = input(\"Номер поезда? \")\n",
    "\n",
    "    my_string = str(input('Время отправления(yyyy-mm-dd hh:mm): '))    \n",
    "    departureTime = datetime.strptime(my_string, \"%Y-%m-%d %H:%M\")\n",
    "\n",
    "    schedule = {\n",
    "        'distenationName': distenationName,\n",
    "        'number': number,\n",
    "        'departureTime': departureTime,\n",
    "    }\n",
    "\n",
    "\n",
    "    # Добавить словарь в список.\n",
    "    schedules.append(schedule)\n",
    "    # Отсортировать список в случае необходимости.\n",
    "    if len(schedules) > 1:\n",
    "        schedules.sort(key=lambda item: item.get('distenationName', ''))\n",
    "\n",
    "def destination_list():\n",
    "    my_string2 = str(input('Введите время отправки для поиска существующих рейсов: (yyyy-mm-dd hh:mm): '))\n",
    "    departureTime2=datetime.strptime(my_string2, \"%Y-%m-%d %H:%M\")\n",
    "\n",
    "    if next((x for x in schedules if x[\"departureTime\"] >= departureTime2), None)!=None:\n",
    "\n",
    "        print(\n",
    "            '| {:^4} | {:^30} | {:^20} | {:^8} |'.format(\n",
    "                \"№\",\n",
    "                \"Пункт назначения\",\n",
    "                \"Номер поезда\",\n",
    "                \"Время отправления\"\n",
    "            )\n",
    "        )\n",
    "\n",
    "\n",
    "        count = 0    \n",
    "        for schedule in schedules:\n",
    "            if schedule[\"departureTime\"] >= departureTime2:\n",
    "                count += 1 \n",
    "                print('  ',count,'\\t\\t  ',schedule.get('distenationName', ''),'\\t\\t\\t   ', schedule.get('number', ''),'\\t ', schedule.get('departureTime', ''))\n",
    "\n",
    "    else:\n",
    "        print(\"Рейсов нет после указанного времени\")\n"
   ]
  },
  {
   "cell_type": "code",
   "execution_count": 14,
   "id": "88104cd9",
   "metadata": {},
   "outputs": [],
   "source": [
    "import sys\n",
    "from datetime import datetime\n",
    "from datetime import date\n"
   ]
  },
  {
   "cell_type": "code",
   "execution_count": null,
   "id": "a78eed6f",
   "metadata": {},
   "outputs": [
    {
     "name": "stdout",
     "output_type": "stream",
     "text": [
      ">>> add\n",
      "Название пункта назначения? Москва\n",
      "Номер поезда? 321\n"
     ]
    }
   ],
   "source": [
    "schedules = []\n",
    "while True:\n",
    "    command = input(\">>> \").lower()\n",
    "    if command == 'exit':\n",
    "        break\n",
    "    elif command == 'add':\n",
    "        dllRoutes.add_destination()\n",
    "    elif command == 'list':\n",
    "        dllRoutes.destination_list()       \n",
    "    else:\n",
    "        print(\"Неверная команда\")\n",
    "    if __name__ == '__main__':\n",
    "         dllRoutes.main()"
   ]
  },
  {
   "cell_type": "code",
   "execution_count": null,
   "id": "c6704da5",
   "metadata": {},
   "outputs": [],
   "source": []
  }
 ],
 "metadata": {
  "kernelspec": {
   "display_name": "Python 3 (ipykernel)",
   "language": "python",
   "name": "python3"
  },
  "language_info": {
   "codemirror_mode": {
    "name": "ipython",
    "version": 3
   },
   "file_extension": ".py",
   "mimetype": "text/x-python",
   "name": "python",
   "nbconvert_exporter": "python",
   "pygments_lexer": "ipython3",
   "version": "3.9.7"
  }
 },
 "nbformat": 4,
 "nbformat_minor": 5
}
