{
 "cells": [
  {
   "cell_type": "markdown",
   "id": "470fff56",
   "metadata": {},
   "source": [
    "# Лабораторная работа 3  Работа со списками в языке Python"
   ]
  },
  {
   "cell_type": "markdown",
   "id": "36edc02b",
   "metadata": {},
   "source": [
    "### Цель:\n",
    "приобретение навыков по работе со списками при написании программ с помощью языка программирования Python версии 3.x."
   ]
  },
  {
   "cell_type": "markdown",
   "id": "a5481056",
   "metadata": {},
   "source": [
    "### Индивидуальные задания:"
   ]
  },
  {
   "cell_type": "markdown",
   "id": "3eaae7e6",
   "metadata": {},
   "source": [
    "**Задание 1** Ввести список А из 10 элементов, найти разность положительных элементов, и вывести ее\n",
    "на экран."
   ]
  },
  {
   "cell_type": "code",
   "execution_count": 10,
   "id": "fead44cf",
   "metadata": {},
   "outputs": [
    {
     "name": "stdout",
     "output_type": "stream",
     "text": [
      "Введите список А из 10 элементов: \n",
      "1\n",
      "2\n",
      "3\n",
      "-4\n",
      "-6\n",
      "7\n",
      "-9\n",
      "-4\n",
      "5\n",
      "9\n",
      "Разность положительных элементов списка: \n",
      "-25\n"
     ]
    }
   ],
   "source": [
    "\n",
    "list1=[]\n",
    "list2=[]\n",
    "difference=0\n",
    "\n",
    "print(\"Введите список А из 10 элементов: \")\n",
    "\n",
    "for i in range(10):\n",
    "    list1.append(int(input()))\n",
    "        \n",
    "for i in range(len(list1)):\n",
    "    if list1[i]>0:\n",
    "        list2.append(list1[i])\n",
    "        \n",
    "difference=list2[0]\n",
    "\n",
    "for i in range(len(list2)-1):\n",
    "    difference=difference-list2[i+1]\n",
    "    \n",
    "print(\"\\nРазность положительных элементов списка: \")\n",
    "print(difference)"
   ]
  },
  {
   "cell_type": "markdown",
   "id": "18e63b23",
   "metadata": {},
   "source": [
    "##### "
   ]
  },
  {
   "cell_type": "code",
   "execution_count": 13,
   "id": "6f8969c9",
   "metadata": {},
   "outputs": [
    {
     "name": "stdout",
     "output_type": "stream",
     "text": [
      "1\n",
      "2\n",
      "3\n",
      "4\n",
      "\n",
      "Разность положительных элементов списка: \n",
      "-8\n"
     ]
    }
   ],
   "source": [
    "list1=[]\n",
    "list2=[]\n",
    "difference=0\n",
    "\n",
    "\n",
    "list1 = [i for i in range(-4, 5)]\n",
    "\n",
    "        \n",
    "for i in range(len(list1)):\n",
    "    if list1[i]>0:\n",
    "        list2.append(list1[i])\n",
    "\n",
    "for i in range(len(list2)):\n",
    "    print(list2[i])      \n",
    "        \n",
    "difference=list2[0]\n",
    "\n",
    "for i in range(len(list2)-1):\n",
    "    difference=difference-list2[i+1]\n",
    "    \n",
    "print(\"\\nРазность положительных элементов списка: \")\n",
    "print(difference)"
   ]
  },
  {
   "cell_type": "markdown",
   "id": "c5a64b92",
   "metadata": {},
   "source": [
    "**Задание 2** \n",
    "В списке, состоящем из целых элементов, вычислить:\n",
    "1. номер максимального элемента списка;\n",
    "2. произведение элементов списка, расположенных между первым и вторым нулевыми\n",
    "элементами."
   ]
  },
  {
   "cell_type": "code",
   "execution_count": 54,
   "id": "f15a78af",
   "metadata": {},
   "outputs": [
    {
     "name": "stdout",
     "output_type": "stream",
     "text": [
      "Введите размер списка: 6\n",
      "Введите список А из 6 элементов: \n",
      "0\n",
      "1\n",
      "2\n",
      "3\n",
      "4\n",
      "0\n",
      "\n",
      "Максимальный элемент списка=  4\n",
      "\n",
      "Index максимального элемента списка = 4\n",
      "tmp= [1, 2, 3, 4, 0]\n",
      "[1, 2, 3, 4]\n"
     ]
    }
   ],
   "source": [
    "from functools import reduce\n",
    "from operator import mul\n",
    "\n",
    "list3=[]\n",
    "n = int(input(\"Введите размер списка: \" ))\n",
    "print(\"Введите список А из {0} элементов: \".format(n))\n",
    "\n",
    "for i in range(n):\n",
    "    list3.append(int(input()))\n",
    "print(\"\\nМаксимальный элемент списка= \", max(list3))\n",
    "print(\"\\nIndex максимального элемента списка =\",list3.index(max(list3)))\n"
   ]
  },
  {
   "cell_type": "code",
   "execution_count": 61,
   "id": "bfc4b9ad",
   "metadata": {},
   "outputs": [
    {
     "name": "stdout",
     "output_type": "stream",
     "text": [
      "Значение списка между двумя нулями:  [1, 2, 3, 4]\n"
     ]
    }
   ],
   "source": [
    "list4=[]\n",
    "tmp = list3[list3.index(0) + 1:]\n",
    "list4 = tmp[: list3.index(0) -1]\n",
    "print(\"Значение списка между двумя нулями: \", list4)\n"
   ]
  },
  {
   "cell_type": "code",
   "execution_count": 59,
   "id": "fdc06eae",
   "metadata": {},
   "outputs": [
    {
     "name": "stdout",
     "output_type": "stream",
     "text": [
      "Произведение элементов списка, расположенных между первым и вторым нулевыми элементами:  24\n"
     ]
    }
   ],
   "source": [
    "print(\"Произведение элементов списка, расположенных между первым и вторым нулевыми элементами: \", reduce(mul, list4))"
   ]
  },
  {
   "cell_type": "markdown",
   "id": "2ed8da04",
   "metadata": {},
   "source": [
    "**Задание 2.1** Преобразовать список таким образом, чтобы в первой его половине располагались элементы,\n",
    "стоявшие в нечетных позициях, а во второй половине - элементы, стоявшие в четных позициях."
   ]
  },
  {
   "cell_type": "code",
   "execution_count": 62,
   "id": "e70bb9d2",
   "metadata": {},
   "outputs": [
    {
     "name": "stdout",
     "output_type": "stream",
     "text": [
      "[0, 2, 4, 1, 3, 0]\n"
     ]
    }
   ],
   "source": [
    "list3 = list3[0::2]+ list3[1::2]\n",
    "print(list3)"
   ]
  },
  {
   "cell_type": "code",
   "execution_count": null,
   "id": "152b6884",
   "metadata": {},
   "outputs": [],
   "source": []
  }
 ],
 "metadata": {
  "kernelspec": {
   "display_name": "Python 3 (ipykernel)",
   "language": "python",
   "name": "python3"
  },
  "language_info": {
   "codemirror_mode": {
    "name": "ipython",
    "version": 3
   },
   "file_extension": ".py",
   "mimetype": "text/x-python",
   "name": "python",
   "nbconvert_exporter": "python",
   "pygments_lexer": "ipython3",
   "version": "3.9.7"
  }
 },
 "nbformat": 4,
 "nbformat_minor": 5
}
