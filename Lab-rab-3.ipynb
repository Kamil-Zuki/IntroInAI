{
 "cells": [
  {
   "cell_type": "markdown",
   "id": "c669d2a2",
   "metadata": {},
   "source": [
    "# Лабораторная работа 3  Работа со списками в языке Python"
   ]
  },
  {
   "cell_type": "markdown",
   "id": "ad5b8648",
   "metadata": {},
   "source": [
    "### Цель:\n",
    "приобретение навыков по работе со списками при написании программ с помощью языка программирования Python версии 3.x."
   ]
  },
  {
   "cell_type": "markdown",
   "id": "a9811064",
   "metadata": {},
   "source": [
    "### Индивидуальные задания:"
   ]
  },
  {
   "cell_type": "markdown",
   "id": "6d68c643",
   "metadata": {},
   "source": [
    "**Задание 1** Ввести список А из 10 элементов, найти разность положительных элементов, и вывести ее\n",
    "на экран."
   ]
  },
  {
   "cell_type": "code",
   "execution_count": 10,
   "id": "d3bbd9a1",
   "metadata": {},
   "outputs": [
    {
     "name": "stdout",
     "output_type": "stream",
     "text": [
      "Введите список А из 10 элементов: \n",
      "1\n",
      "2\n",
      "3\n",
      "-4\n",
      "-6\n",
      "7\n",
      "-9\n",
      "-4\n",
      "5\n",
      "9\n",
      "Разность положительных элементов списка: \n",
      "-25\n"
     ]
    }
   ],
   "source": [
    "\n",
    "list1=[]\n",
    "list2=[]\n",
    "difference=0\n",
    "\n",
    "print(\"Введите список А из 10 элементов: \")\n",
    "\n",
    "for i in range(10):\n",
    "    list1.append(int(input()))\n",
    "        \n",
    "for i in range(len(list1)):\n",
    "    if list1[i]>0:\n",
    "        list2.append(list1[i])\n",
    "        \n",
    "difference=list2[0]\n",
    "\n",
    "for i in range(len(list2)-1):\n",
    "    difference=difference-list2[i+1]\n",
    "    \n",
    "print(\"\\nРазность положительных элементов списка: \")\n",
    "print(difference)"
   ]
  },
  {
   "cell_type": "markdown",
   "id": "670c1a22",
   "metadata": {},
   "source": [
    "##### "
   ]
  },
  {
   "cell_type": "code",
   "execution_count": 13,
   "id": "1b3949a9",
   "metadata": {},
   "outputs": [
    {
     "name": "stdout",
     "output_type": "stream",
     "text": [
      "1\n",
      "2\n",
      "3\n",
      "4\n",
      "\n",
      "Разность положительных элементов списка: \n",
      "-8\n"
     ]
    }
   ],
   "source": [
    "list1=[]\n",
    "list2=[]\n",
    "difference=0\n",
    "\n",
    "\n",
    "list1 = [i for i in range(-4, 5)]\n",
    "\n",
    "        \n",
    "for i in range(len(list1)):\n",
    "    if list1[i]>0:\n",
    "        list2.append(list1[i])\n",
    "\n",
    "for i in range(len(list2)):\n",
    "    print(list2[i])      \n",
    "        \n",
    "difference=list2[0]\n",
    "\n",
    "for i in range(len(list2)-1):\n",
    "    difference=difference-list2[i+1]\n",
    "    \n",
    "print(\"\\nРазность положительных элементов списка: \")\n",
    "print(difference)"
   ]
  },
  {
   "cell_type": "code",
   "execution_count": null,
   "id": "4b89fe47",
   "metadata": {},
   "outputs": [],
   "source": []
  }
 ],
 "metadata": {
  "kernelspec": {
   "display_name": "Python 3 (ipykernel)",
   "language": "python",
   "name": "python3"
  },
  "language_info": {
   "codemirror_mode": {
    "name": "ipython",
    "version": 3
   },
   "file_extension": ".py",
   "mimetype": "text/x-python",
   "name": "python",
   "nbconvert_exporter": "python",
   "pygments_lexer": "ipython3",
   "version": "3.9.7"
  }
 },
 "nbformat": 4,
 "nbformat_minor": 5
}
