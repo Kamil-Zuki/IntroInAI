{
 "cells": [
  {
   "cell_type": "markdown",
   "id": "45c442e6",
   "metadata": {},
   "source": [
    "# Лабораторная работа 8 (3.2)  Основы работы с библиотекой NumPy\n",
    "\n",
    "**Цель работы:**   исследовать базовые возможности библиотеки NumPy языка программирования Python.\n",
    "\n",
    "## 6 Вариант"
   ]
  },
  {
   "cell_type": "markdown",
   "id": "18c94fe8",
   "metadata": {},
   "source": [
    "### Индивидуальные задания:"
   ]
  },
  {
   "cell_type": "markdown",
   "id": "ec61ed25",
   "metadata": {},
   "source": [
    "**Задание**  Для заданной матрицы размером 8 на 8 найти такие k, что k-я строка матрицы совпадает с k-м столбцом. Найти сумму элементов в тех строках, которые содержат хотя бы один отрицательный элемент."
   ]
  },
  {
   "cell_type": "code",
   "execution_count": 47,
   "id": "b3d1f328",
   "metadata": {},
   "outputs": [],
   "source": [
    "import numpy as np\n",
    "\n",
    "matrix = np.array([[6.7, 3.4, 4.4, 6.7, 8.4, 9.4, 10.4, 1.4],\n",
    "                   [3.4, 5.3, -3.7, 3.4, -1.2, 5.2, -9.8, 5.5],\n",
    "                   [4.4, -21.5, 4.5, 4.4, 9.4,  6.5, 7.5, 12.4],\n",
    "                   [6.4, -9.8, 5.5,  6.7, 1.4, -5.5, 9.5, -1.6],\n",
    "                   [8.4,  1.5, 6.5,  8.4, -1.2, 5.2, 2.1, 4.5],\n",
    "                   [9.4,  6.5, 7.5,  9.4, -21.5, 4.5,-7.1, 9.4],\n",
    "                   [10.4, 7.3, 8.5, 10.4, 2.1, 4.5, 9.5, 21.4],\n",
    "                   [1.4, -5.5, 9.5, 1.4, -9.8, 5.5, -6.2, 1.4]])\n",
    "\n"
   ]
  },
  {
   "cell_type": "code",
   "execution_count": 51,
   "id": "c0327d87",
   "metadata": {},
   "outputs": [
    {
     "name": "stdout",
     "output_type": "stream",
     "text": [
      "Ряд и колонка с индексами 0 и 3 полностью совпадают.\n"
     ]
    }
   ],
   "source": [
    "for i in range(len(matrix)) :\n",
    "    for j in range(len(matrix[i])) :\n",
    "        if (matrix[i, :]==matrix[: , j]).all():\n",
    "            print(f\"Ряд и колонка с индексами {i} и {j} полностью совпадают.\")"
   ]
  },
  {
   "cell_type": "code",
   "execution_count": 35,
   "id": "ca779f6e",
   "metadata": {},
   "outputs": [
    {
     "name": "stdout",
     "output_type": "stream",
     "text": [
      "Сумма элементов в строках, которые содержат хотя бы один отрицательный элемент:\n",
      "\n",
      " [52.0, 40.5, 32.19999999999999, -1.1999999999999993, 43.400000000000006, 12.900000000000006, 61.2, -21.200000000000003]\n"
     ]
    }
   ],
   "source": [
    "negsum=[]\n",
    "negsum2=[]\n",
    "for i in range(len(matrix)) :\n",
    "    neg = 0\n",
    "    for j in range(len(matrix[i])) :\n",
    "        if matrix[i][j] < 0 :\n",
    "            neg += matrix[i]\n",
    "    negsum.append(neg)\n",
    "#print(negsum)\n",
    "    \n",
    "for i in range(len(negsum)):\n",
    "    neg2=np.sum(negsum[i])\n",
    "    negsum2.append(neg2)\n",
    "    \n",
    "print(\"Сумма элементов в строках, которые содержат хотя бы один отрицательный элемент:\\n\\n\", negsum2)"
   ]
  },
  {
   "cell_type": "code",
   "execution_count": 49,
   "id": "e069809d",
   "metadata": {},
   "outputs": [],
   "source": []
  },
  {
   "cell_type": "code",
   "execution_count": null,
   "id": "1e13a0ad",
   "metadata": {},
   "outputs": [],
   "source": []
  }
 ],
 "metadata": {
  "kernelspec": {
   "display_name": "Python 3 (ipykernel)",
   "language": "python",
   "name": "python3"
  },
  "language_info": {
   "codemirror_mode": {
    "name": "ipython",
    "version": 3
   },
   "file_extension": ".py",
   "mimetype": "text/x-python",
   "name": "python",
   "nbconvert_exporter": "python",
   "pygments_lexer": "ipython3",
   "version": "3.9.7"
  }
 },
 "nbformat": 4,
 "nbformat_minor": 5
}
