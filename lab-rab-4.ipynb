{
 "cells": [
  {
   "cell_type": "markdown",
   "id": "a20b513b",
   "metadata": {},
   "source": [
    "# Лабораторная работа 4 (2.6)  Работа со словарями в языке Python\n",
    "\n",
    "## Вариант 6"
   ]
  },
  {
   "cell_type": "markdown",
   "id": "a2e10507",
   "metadata": {},
   "source": [
    "### Цель:\n",
    "приобретение навыков по работе со словарями при написании программ с помощью языка программирования Python версии 3.x."
   ]
  },
  {
   "cell_type": "markdown",
   "id": "6c652e70",
   "metadata": {},
   "source": [
    "### Индивидуальные задания:"
   ]
  },
  {
   "cell_type": "markdown",
   "id": "b40fbf15",
   "metadata": {},
   "source": [
    "**Задание 1** Использовать словарь, содержащий следующие ключи: название пункта назначения; номер\n",
    "поезда; время отправления. Написать программу, выполняющую следующие действия: ввод\n",
    "с клавиатуры данных в список, состоящий из словарей заданной структуры; записи должны\n",
    "быть размещены в алфавитном порядке по названиям пунктов назначения; вывод на экран\n",
    "информации о поездах, отправляющихся после введенного с клавиатуры времени; если\n",
    "таких поездов нет, выдать на дисплей соответствующее сообщение."
   ]
  },
  {
   "cell_type": "code",
   "execution_count": null,
   "id": "a1d3a8d0",
   "metadata": {},
   "outputs": [],
   "source": [
    "import sys\n",
    "from datetime import datetime\n",
    "from datetime import date"
   ]
  },
  {
   "cell_type": "code",
   "execution_count": null,
   "id": "a6769076",
   "metadata": {},
   "outputs": [
    {
     "name": "stdout",
     "output_type": "stream",
     "text": [
      ">>> add\n",
      "Название пункта назначения? Москва\n",
      "Номер поезда? 2432\n",
      "Время отправления(yyyy-mm-dd hh:mm): 2022-05-02 12:50\n",
      ">>> фвв\n",
      ">>> add\n",
      "Название пункта назначения? Ставрополь\n",
      "Номер поезда? 324\n",
      "Время отправления(yyyy-mm-dd hh:mm): 2022-05-02 16:20\n",
      ">>> list\n",
      "Введите время отправки для поиска существующих рейсов: (yyyy-mm-dd hh:mm): 2022-05-02 11:50\n",
      "|  №   |        Пункт назначения        |     Номер поезда     | Время отправления |\n",
      "   1 \t\t   Москва \t\t\t    2432 \t  2022-05-02 12:50:00\n",
      "   2 \t\t   Ставрополь \t\t\t    324 \t  2022-05-02 16:20:00\n",
      ">>> list\n",
      "Введите время отправки для поиска существующих рейсов: (yyyy-mm-dd hh:mm): 2022-05-02 14:50\n",
      "|  №   |        Пункт назначения        |     Номер поезда     | Время отправления |\n",
      "   1 \t\t   Ставрополь \t\t\t    324 \t  2022-05-02 16:20:00\n",
      ">>> list\n",
      "Введите время отправки для поиска существующих рейсов: (yyyy-mm-dd hh:mm): 2022-05-02 17:50\n",
      "Рейсов нет после указанного времени\n"
     ]
    }
   ],
   "source": [
    "if __name__ == '__main__':\n",
    "    # Расписание поездов\n",
    "    schedules = []\n",
    "    \n",
    "    # Организовать бесконечный цикл запроса команд.\n",
    "    while True:\n",
    "        # Запросить команду из терминала.\n",
    "        command = input(\">>> \").lower()\n",
    "        \n",
    "        if command == 'exit':\n",
    "            break\n",
    "        elif command=='add':\n",
    "            \n",
    "            distenationName = input(\"Название пункта назначения? \")\n",
    "            number = input(\"Номер поезда? \")\n",
    "            \n",
    "            my_string = str(input('Время отправления(yyyy-mm-dd hh:mm): '))\n",
    "            departureTime = datetime.strptime(my_string, \"%Y-%m-%d %H:%M\")\n",
    "            \n",
    "            \n",
    "            # Создать словарь.\n",
    "            schedule = {\n",
    "                'distenationName': distenationName,\n",
    "                'number': number,\n",
    "                'departureTime': departureTime,\n",
    "            }\n",
    "            \n",
    "            \n",
    "            # Добавить словарь в список.\n",
    "            schedules.append(schedule)\n",
    "            # Отсортировать список в случае необходимости.\n",
    "            if len(schedules) > 1:\n",
    "                schedules.sort(key=lambda item: item.get('distenationName', ''))\n",
    "        elif command == 'list':\n",
    "            \n",
    "            my_string2 = str(input('Введите время отправки для поиска существующих рейсов: (yyyy-mm-dd hh:mm): '))\n",
    "            departureTime2=datetime.strptime(my_string2, \"%Y-%m-%d %H:%M\")\n",
    "            \n",
    "            if next((x for x in schedules if x[\"departureTime\"] >= departureTime2), None)!=None:\n",
    "                \n",
    "                print(\n",
    "                    '| {:^4} | {:^30} | {:^20} | {:^8} |'.format(\n",
    "                        \"№\",\n",
    "                        \"Пункт назначения\",\n",
    "                        \"Номер поезда\",\n",
    "                        \"Время отправления\"\n",
    "                    )\n",
    "                )\n",
    "                \n",
    "                \n",
    "                count = 0    \n",
    "                for schedule in schedules:\n",
    "                    if schedule[\"departureTime\"] >= departureTime2:\n",
    "                        count += 1 \n",
    "                        print('  ',count,'\\t\\t  ',schedule.get('distenationName', ''),'\\t\\t\\t   ', schedule.get('number', ''),'\\t ', schedule.get('departureTime', ''))\n",
    "                    \n",
    "            else:\n",
    "                print(\"Рейсов нет после указанного времени\")\n",
    "                      \n",
    "                \n"
   ]
  },
  {
   "cell_type": "code",
   "execution_count": null,
   "id": "c3afb2e6",
   "metadata": {},
   "outputs": [],
   "source": []
  },
  {
   "cell_type": "code",
   "execution_count": null,
   "id": "a98262e7",
   "metadata": {},
   "outputs": [],
   "source": []
  },
  {
   "cell_type": "code",
   "execution_count": null,
   "id": "02ecc9ee",
   "metadata": {},
   "outputs": [],
   "source": []
  }
 ],
 "metadata": {
  "kernelspec": {
   "display_name": "Python 3 (ipykernel)",
   "language": "python",
   "name": "python3"
  },
  "language_info": {
   "codemirror_mode": {
    "name": "ipython",
    "version": 3
   },
   "file_extension": ".py",
   "mimetype": "text/x-python",
   "name": "python",
   "nbconvert_exporter": "python",
   "pygments_lexer": "ipython3",
   "version": "3.9.7"
  }
 },
 "nbformat": 4,
 "nbformat_minor": 5
}
