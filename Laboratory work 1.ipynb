{
 "cells": [
  {
   "cell_type": "markdown",
   "id": "c4457230",
   "metadata": {},
   "source": [
    "# Лабораторная работа 1 Условные операторы и циклы в языке Python\n"
   ]
  },
  {
   "cell_type": "markdown",
   "id": "5df7cf58",
   "metadata": {},
   "source": [
    "### Цель работы:  \n",
    "приобретение навыков программирования разветвляющихся алгоритмов и\n",
    "алгоритмов циклической структуры. Освоить операторы языка Python версии 3.x if , while ,\n",
    "for , break и continue , позволяющих реализовывать разветвляющиеся алгоритмы и\n",
    "алгоритмы циклической структуры."
   ]
  },
  {
   "cell_type": "markdown",
   "id": "d282bcba",
   "metadata": {},
   "source": [
    "### Практическая часть:"
   ]
  },
  {
   "cell_type": "markdown",
   "id": "3b97f6cf",
   "metadata": {},
   "source": [
    "### Индивидуальные задания:"
   ]
  },
  {
   "cell_type": "markdown",
   "id": "46c48095",
   "metadata": {},
   "source": [
    "**Задание 1.**  Дано целое число такое, что |C|<9. Вывести это число в словесной форме, учитывая его знак.\n"
   ]
  },
  {
   "cell_type": "code",
   "execution_count": 25,
   "id": "40aefd55",
   "metadata": {},
   "outputs": [
    {
     "name": "stdout",
     "output_type": "stream",
     "text": [
      "введите число:-8\n",
      "Минус восемь\n"
     ]
    }
   ],
   "source": [
    "C= int(input(\"введите число:\"))\n",
    "\n",
    "if C>-9 and C<9:\n",
    "    if(C==-8):\n",
    "        print(\"Минус восемь\")\n",
    "    if(C==-7):\n",
    "        print(\"Минус семь\")\n",
    "    if(C==-6):\n",
    "        print(\"Минус шесть\")\n",
    "    if(C==-5):\n",
    "        print(\"Минус пять\")\n",
    "    if(C==-4):\n",
    "        print(\"Минус четыри\")\n",
    "    if(C==-3):\n",
    "        print(\"Минус три\")\n",
    "    if(C==-2):\n",
    "        print(\"Минус два\")\n",
    "    if(C==-1):\n",
    "        print(\"Минус один\")\n",
    "    if(C==0):\n",
    "        print(\"Ноль\")\n",
    "        \n",
    "    if(C==8):\n",
    "        print(\"Восемь\")\n",
    "    if(C==7):\n",
    "        print(\"Семь\")\n",
    "    if(C==6):\n",
    "        print(\"Шесть\")\n",
    "    if(C==5):\n",
    "        print(\"Пять\")\n",
    "    if(C==4):\n",
    "        print(\"Четыри\")\n",
    "    if(C==3):\n",
    "        print(\"Три\")\n",
    "    if(C==2):\n",
    "        print(\"Два\")\n",
    "    if(C==1):\n",
    "        print(\"Один\")\n",
    "        \n",
    "    \n",
    "else:\n",
    "    print(\"Вы ввели число вне предела |C|<9\")\n",
    " "
   ]
  },
  {
   "cell_type": "markdown",
   "id": "6e9c5ec1",
   "metadata": {},
   "source": [
    "**Задание 2.**  Решить квадратное неравенство `ax^2 + bx + c > 0` `(a!=0)`, где `a,b` и `c`- действительные числа.\n",
    "\n"
   ]
  },
  {
   "cell_type": "code",
   "execution_count": 6,
   "id": "22332f6a",
   "metadata": {
    "scrolled": true
   },
   "outputs": [
    {
     "name": "stdout",
     "output_type": "stream",
     "text": [
      "введите число a: 2\n",
      "введите число b: 2\n",
      "введите число c: -12\n",
      "Решение\n",
      "Дискриминант D = 100.00\n",
      "x1 = 2.00 \n",
      "x2 = -3.00\n",
      "Ответ: x>2.00, x<-3.00\n"
     ]
    }
   ],
   "source": [
    "import math\n",
    "\n",
    "a= float(input(\"введите число a: \"))\n",
    "if(a==0):\n",
    "    print(\"Ошибка. Вы ввели число a равное нулю\")\n",
    "else: \n",
    "    b= float(input(\"введите число b: \"))\n",
    "    c= float(input(\"введите число c: \"))\n",
    "\n",
    "print(\"Решение\")\n",
    "D = b ** 2 - 4 * a * c\n",
    "print(\"Дискриминант D = %.2f\" % D)\n",
    "\n",
    "if D > 0:\n",
    "    x1 = (-b + math.sqrt(D)) / (2 * a)\n",
    "    x2 = (-b - math.sqrt(D)) / (2 * a)\n",
    "    print(\"x1 = %.2f \\nx2 = %.2f\" % (x1, x2))\n",
    "    if(x1>x2):\n",
    "        print(\"Ответ: x>%.2f, x<%.2f\" % (x1, x2))\n",
    "    if(x1<x2):\n",
    "        print(\"Ответ: x>%.2f, x<%.2f\" % (x2, x1))\n",
    "elif D == 0:\n",
    "    x = -b / (2 * a)\n",
    "    print(\"x = %.2f\" % x)\n",
    "    print(\"Ответ: x>%.2f\" % x)\n",
    "else:\n",
    "    print(\"Ответ: корней нет\")\n",
    "    "
   ]
  },
  {
   "cell_type": "markdown",
   "id": "8058e6ff",
   "metadata": {},
   "source": [
    "**Задание 3.** Напечатать таблицу соответствия между весом в фунтах и весом в кг для значений от 1 до ***а***\n",
    "фунтов с шагом 1 фунт, если 1 фунт = 400 г."
   ]
  },
  {
   "cell_type": "code",
   "execution_count": 25,
   "id": "fbf26704",
   "metadata": {},
   "outputs": [
    {
     "name": "stdout",
     "output_type": "stream",
     "text": [
      "Введите число a (предельное значение фунтов): 5\n",
      "\n",
      "Таблица соответствия фунтов и килограмм:\n",
      "1.00 Фунт=0.40 Кг\n",
      "2.00 Фунт=0.80 Кг\n",
      "3.00 Фунт=1.60 Кг\n",
      "4.00 Фунт=3.20 Кг\n",
      "5.00 Фунт=6.40 Кг\n"
     ]
    }
   ],
   "source": [
    "i= int(input(\"Введите число a (предельное значение фунтов): \"))\n",
    "f=1\n",
    "beg=1\n",
    "kg=0.4\n",
    "print(\"\\nТаблица соответствия фунтов и килограмм:\")\n",
    "while f<=i:\n",
    "    print(\"%.2f Фунт=%.2f Кг\"% (f, kg))\n",
    "    f+=1\n",
    "    kg*=2"
   ]
  },
  {
   "cell_type": "markdown",
   "id": "077e3710",
   "metadata": {},
   "source": [
    "**Задание повышенной сложности** произвести вычисления значения специальной функции по ее разложению в ряд с точностью \\\\(\\epsilon=10^{-10}\\\\), аргумент функции вводится с клавиатуры. $$ J_n(x) = (\\frac{x}{2})^{n} \\displaystyle\\sum_{\\kappa=0}^{\\infty} \\frac{{(x^2/4)}^\\kappa}{k!(\\kappa+n)!} $$"
   ]
  },
  {
   "cell_type": "code",
   "execution_count": null,
   "id": "0adb00d0",
   "metadata": {},
   "outputs": [],
   "source": []
  },
  {
   "cell_type": "code",
   "execution_count": null,
   "id": "da1ae676",
   "metadata": {},
   "outputs": [],
   "source": []
  }
 ],
 "metadata": {
  "kernelspec": {
   "display_name": "Python 3 (ipykernel)",
   "language": "python",
   "name": "python3"
  },
  "language_info": {
   "codemirror_mode": {
    "name": "ipython",
    "version": 3
   },
   "file_extension": ".py",
   "mimetype": "text/x-python",
   "name": "python",
   "nbconvert_exporter": "python",
   "pygments_lexer": "ipython3",
   "version": "3.9.7"
  }
 },
 "nbformat": 4,
 "nbformat_minor": 5
}
