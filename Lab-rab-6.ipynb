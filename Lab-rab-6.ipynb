{
 "cells": [
  {
   "cell_type": "markdown",
   "id": "5f0e009f",
   "metadata": {},
   "source": [
    "# Лабораторная работа 6 (2.8) Работа с функциями в языке Python\n",
    "\n",
    "**Цель работы:**  приобретение навыков по работе с функциями при написании программ с\n",
    "помощью языка программирования Python версии3.x.\n",
    "\n",
    "## 6 Вариант"
   ]
  },
  {
   "cell_type": "markdown",
   "id": "cae3fa6d",
   "metadata": {},
   "source": [
    "### Индивидуальное задание:"
   ]
  },
  {
   "cell_type": "markdown",
   "id": "9548a2d1",
   "metadata": {},
   "source": [
    "**Задание 1** Решить индивидуальное задание лабораторной работы 2.6, оформив каждую команду в виде отдельной функции."
   ]
  },
  {
   "cell_type": "code",
   "execution_count": 1,
   "id": "1e6a3e36",
   "metadata": {},
   "outputs": [],
   "source": [
    "import sys\n",
    "from datetime import datetime\n",
    "from datetime import date"
   ]
  },
  {
   "cell_type": "code",
   "execution_count": null,
   "id": "c1e08b54",
   "metadata": {},
   "outputs": [
    {
     "name": "stdout",
     "output_type": "stream",
     "text": [
      ">>> add\n",
      "Название пункта назначения? Москва\n",
      "Номер поезда? 241\n",
      "Время отправления(yyyy-mm-dd hh:mm): 2022-05-10 18:20\n",
      ">>> list\n",
      "Введите время отправки для поиска существующих рейсов: (yyyy-mm-dd hh:mm): 2022-05-10 18:00\n",
      "|  №   |        Пункт назначения        |     Номер поезда     | Время отправления |\n",
      "   1 \t\t   Москва \t\t\t    241 \t  2022-05-10 18:20:00\n"
     ]
    }
   ],
   "source": [
    "def add_destination():\n",
    "    distenationName = input(\"Название пункта назначения? \")\n",
    "    number = input(\"Номер поезда? \")\n",
    "\n",
    "    my_string = str(input('Время отправления(yyyy-mm-dd hh:mm): '))\n",
    "    departureTime = datetime.strptime(my_string, \"%Y-%m-%d %H:%M\")\n",
    "\n",
    "\n",
    "    # Создать словарь.\n",
    "    schedule = {\n",
    "        'distenationName': distenationName,\n",
    "        'number': number,\n",
    "        'departureTime': departureTime,\n",
    "    }\n",
    "\n",
    "\n",
    "    # Добавить словарь в список.\n",
    "    schedules.append(schedule)\n",
    "    # Отсортировать список в случае необходимости.\n",
    "    if len(schedules) > 1:\n",
    "        schedules.sort(key=lambda item: item.get('distenationName', ''))\n",
    "\n",
    "def destination_list():\n",
    "    my_string2 = str(input('Введите время отправки для поиска существующих рейсов: (yyyy-mm-dd hh:mm): '))\n",
    "    departureTime2=datetime.strptime(my_string2, \"%Y-%m-%d %H:%M\")\n",
    "\n",
    "    if next((x for x in schedules if x[\"departureTime\"] >= departureTime2), None)!=None:\n",
    "\n",
    "        print(\n",
    "            '| {:^4} | {:^30} | {:^20} | {:^8} |'.format(\n",
    "                \"№\",\n",
    "                \"Пункт назначения\",\n",
    "                \"Номер поезда\",\n",
    "                \"Время отправления\"\n",
    "            )\n",
    "        )\n",
    "\n",
    "\n",
    "        count = 0    \n",
    "        for schedule in schedules:\n",
    "            if schedule[\"departureTime\"] >= departureTime2:\n",
    "                count += 1 \n",
    "                print('  ',count,'\\t\\t  ',schedule.get('distenationName', ''),'\\t\\t\\t   ', schedule.get('number', ''),'\\t ', schedule.get('departureTime', ''))\n",
    "\n",
    "    else:\n",
    "        print(\"Рейсов нет после указанного времени\")\n",
    "\n",
    "        \n",
    "schedules = []\n",
    "while True:\n",
    "    command = input(\">>> \").lower()\n",
    "    if command == 'exit':\n",
    "            break\n",
    "    elif command == 'add':\n",
    "            add_destination()\n",
    "    elif command == 'list':\n",
    "            destination_list()       \n",
    "    else:\n",
    "        print(\"Неверная команда\")"
   ]
  },
  {
   "cell_type": "code",
   "execution_count": null,
   "id": "ba2e2472",
   "metadata": {},
   "outputs": [],
   "source": []
  }
 ],
 "metadata": {
  "kernelspec": {
   "display_name": "Python 3 (ipykernel)",
   "language": "python",
   "name": "python3"
  },
  "language_info": {
   "codemirror_mode": {
    "name": "ipython",
    "version": 3
   },
   "file_extension": ".py",
   "mimetype": "text/x-python",
   "name": "python",
   "nbconvert_exporter": "python",
   "pygments_lexer": "ipython3",
   "version": "3.9.7"
  }
 },
 "nbformat": 4,
 "nbformat_minor": 5
}
